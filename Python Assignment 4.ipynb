{
 "cells": [
  {
   "cell_type": "markdown",
   "id": "e70a0cb6",
   "metadata": {},
   "source": [
    "## Q1. What exactly is []?\n",
    "In Python, [] represents an empty list. A list is a collection of items enclosed within square brackets, and when the square brackets contain no elements, it denotes an empty list."
   ]
  },
  {
   "cell_type": "markdown",
   "id": "1f6f030a",
   "metadata": {},
   "source": [
    "## Q2. In a list of values stored in a variable called spam, how would you assign the value 'hello' as the third value? (Assume [2, 4, 6, 8, 10] are in spam.)"
   ]
  },
  {
   "cell_type": "code",
   "execution_count": 8,
   "id": "19cc88b5",
   "metadata": {},
   "outputs": [],
   "source": [
    "spam = [2,4,6,8,10]"
   ]
  },
  {
   "cell_type": "code",
   "execution_count": 9,
   "id": "657ef402",
   "metadata": {},
   "outputs": [],
   "source": [
    "spam[2] = 'hello'"
   ]
  },
  {
   "cell_type": "code",
   "execution_count": 10,
   "id": "4629c9bd",
   "metadata": {},
   "outputs": [
    {
     "data": {
      "text/plain": [
       "[2, 4, 'hello', 8, 10]"
      ]
     },
     "execution_count": 10,
     "metadata": {},
     "output_type": "execute_result"
    }
   ],
   "source": [
    "spam"
   ]
  },
  {
   "cell_type": "markdown",
   "id": "2341f2aa",
   "metadata": {},
   "source": [
    "## Q3. What is the value of spam[int(int('3' * 2) / 11)]?"
   ]
  },
  {
   "cell_type": "code",
   "execution_count": 11,
   "id": "7787e165",
   "metadata": {},
   "outputs": [
    {
     "data": {
      "text/plain": [
       "8"
      ]
     },
     "execution_count": 11,
     "metadata": {},
     "output_type": "execute_result"
    }
   ],
   "source": [
    "spam[int(int('3' * 2) / 11)]"
   ]
  },
  {
   "cell_type": "markdown",
   "id": "b4267f05",
   "metadata": {},
   "source": [
    "## Q4. What is the value of spam[-1]?"
   ]
  },
  {
   "cell_type": "code",
   "execution_count": 12,
   "id": "18288a47",
   "metadata": {},
   "outputs": [
    {
     "data": {
      "text/plain": [
       "10"
      ]
     },
     "execution_count": 12,
     "metadata": {},
     "output_type": "execute_result"
    }
   ],
   "source": [
    "spam[-1]"
   ]
  },
  {
   "cell_type": "markdown",
   "id": "aa3e01b9",
   "metadata": {},
   "source": [
    "## Q5. What is the value of spam[:2]?\n"
   ]
  },
  {
   "cell_type": "code",
   "execution_count": 13,
   "id": "4e197170",
   "metadata": {},
   "outputs": [
    {
     "data": {
      "text/plain": [
       "[2, 4]"
      ]
     },
     "execution_count": 13,
     "metadata": {},
     "output_type": "execute_result"
    }
   ],
   "source": [
    "spam[:2]"
   ]
  },
  {
   "cell_type": "code",
   "execution_count": 14,
   "id": "2a374941",
   "metadata": {},
   "outputs": [],
   "source": [
    "bacon = [3.14, 'cat', 11, 'cat', True]"
   ]
  },
  {
   "cell_type": "markdown",
   "id": "22dacd7c",
   "metadata": {},
   "source": [
    "## Q6.What is the value of bacon.index('cat')?"
   ]
  },
  {
   "cell_type": "code",
   "execution_count": 15,
   "id": "0c0144db",
   "metadata": {},
   "outputs": [
    {
     "data": {
      "text/plain": [
       "1"
      ]
     },
     "execution_count": 15,
     "metadata": {},
     "output_type": "execute_result"
    }
   ],
   "source": [
    "bacon.index('cat')"
   ]
  },
  {
   "cell_type": "markdown",
   "id": "72e18fde",
   "metadata": {},
   "source": [
    "## Q7. How does bacon.append(99) change the look of the list value in bacon?\n"
   ]
  },
  {
   "cell_type": "code",
   "execution_count": 21,
   "id": "ff80eb9d",
   "metadata": {},
   "outputs": [
    {
     "data": {
      "text/plain": [
       "[3.14, 'cat', 11, 'cat', True, 99]"
      ]
     },
     "execution_count": 21,
     "metadata": {},
     "output_type": "execute_result"
    }
   ],
   "source": [
    "bacon.append(99)\n",
    "bacon"
   ]
  },
  {
   "cell_type": "markdown",
   "id": "8d48c23a",
   "metadata": {},
   "source": [
    "## Q8. How does bacon.remove('cat') change the look of the list in bacon?"
   ]
  },
  {
   "cell_type": "code",
   "execution_count": 22,
   "id": "ccd574a1",
   "metadata": {},
   "outputs": [
    {
     "data": {
      "text/plain": [
       "[3.14, 11, 'cat', True, 99]"
      ]
     },
     "execution_count": 22,
     "metadata": {},
     "output_type": "execute_result"
    }
   ],
   "source": [
    "bacon.remove('cat')\n",
    "bacon"
   ]
  },
  {
   "cell_type": "markdown",
   "id": "2c8742b7",
   "metadata": {},
   "source": [
    "## Q9. What are the list concatenation and list replication operators?\n",
    "In Python, the list concatenation operator is `+`, and the list replication operator is `*`."
   ]
  },
  {
   "cell_type": "markdown",
   "id": "b6736b00",
   "metadata": {},
   "source": [
    "## Q10. What is difference between the list methods append() and insert()?\n",
    "The append() and insert() methods are both used to add elements to lists in Python. However, they have different behaviors.  \n",
    "The append() method adds an element to the end of a list.  \n",
    "The insert() method inserts an element into a list at a specific index."
   ]
  },
  {
   "cell_type": "markdown",
   "id": "c27cc840",
   "metadata": {},
   "source": [
    "## Q11. What are the two methods for removing items from a list?\n",
    ".remove() and .pop()"
   ]
  },
  {
   "cell_type": "markdown",
   "id": "043c5962",
   "metadata": {},
   "source": [
    "## Q12. Describe how list values and string values are identical.\n",
    "List values and string values share some similarities, but they are not identical. Here's a comparison between list values and string values:\n",
    "\n",
    "Sequential Data:\n",
    "\n",
    "Both lists and strings are sequential data types that allow you to store multiple values in a specific order.\n",
    "Lists are collections of items enclosed within square brackets [], while strings are sequences of characters enclosed within single quotes ' ' or double quotes \" \".\n",
    "Indexing and Slicing:\n",
    "\n",
    "Both lists and strings can be accessed using indexing and slicing.\n",
    "Indexing allows you to access individual elements within a list or string based on their position. The indexing starts from 0 for the first element.\n",
    "Slicing allows you to extract a portion of a list or string by specifying a range of indices.\n",
    "Immutable vs Mutable:\n",
    "\n",
    "Strings are immutable, which means they cannot be changed once created. If you modify a string, a new string object is created.\n",
    "Lists, on the other hand, are mutable, meaning you can modify, add, or remove elements without creating a new list object.\n",
    "Common Operations:\n",
    "\n"
   ]
  },
  {
   "cell_type": "markdown",
   "id": "6064e6cf",
   "metadata": {},
   "source": [
    "## Q13. What's the difference between tuples and lists?\n",
    "Tuples and lists are both common data structures in Python, but they have several differences in terms of their characteristics and usage. Here's a comparison between tuples and lists:\n",
    "\n",
    "Mutability:\n",
    "\n",
    "Tuples are immutable, meaning their elements cannot be modified once the tuple is created. You cannot add, remove, or change elements in a tuple.\n",
    "Lists, on the other hand, are mutable, allowing you to modify, add, remove, or reorder elements after the list is created.\n",
    "Syntax:\n",
    "\n",
    "Tuples are defined using parentheses () or without any explicit delimiters. Elements in a tuple are separated by commas.\n",
    "Lists are defined using square brackets []. Elements in a list are also separated by commas.\n",
    "Usage:\n",
    "\n",
    "Tuples are typically used for grouping related data together, especially when the data should not be modified. They are often used to represent fixed collections of values, such as coordinates or records."
   ]
  },
  {
   "cell_type": "markdown",
   "id": "f6e9cef3",
   "metadata": {},
   "source": [
    "## Q14. How do you type a tuple value that only contains the integer 42?\n",
    "In Python, a tuple with a single element requires a trailing comma after the element to differentiate it from regular parentheses. Without the comma, Python would interpret it as an integer enclosed in parentheses rather than a tuple."
   ]
  },
  {
   "cell_type": "code",
   "execution_count": 24,
   "id": "c6d57f6f",
   "metadata": {},
   "outputs": [
    {
     "data": {
      "text/plain": [
       "tuple"
      ]
     },
     "execution_count": 24,
     "metadata": {},
     "output_type": "execute_result"
    }
   ],
   "source": [
    "my_tuple = (42,)\n",
    "type(my_tuple)"
   ]
  },
  {
   "cell_type": "markdown",
   "id": "94784b3c",
   "metadata": {},
   "source": [
    "## Q15. How do you get a list value's tuple form? How do you get a tuple value's list form?\n",
    "To convert a list to a tuple, you can use the tuple() function. Similarly, to convert a tuple to a list, you can use the list() function"
   ]
  },
  {
   "cell_type": "markdown",
   "id": "7c8ee3f5",
   "metadata": {},
   "source": [
    "## Q16. Variables that \"contain\" list values are not necessarily lists themselves. Instead, what do they contain?\n",
    "Variables that \"contain\" list values in Python actually contain references to the list objects rather than the lists themselves.\n",
    "\n",
    "In Python, objects such as lists, tuples, and dictionaries are stored in memory, and variables hold references to the memory locations where these objects are stored. When you assign a list to a variable, the variable stores a reference to the memory location where the list is stored."
   ]
  },
  {
   "cell_type": "markdown",
   "id": "a98c556b",
   "metadata": {},
   "source": [
    "## Q17. How do you distinguish between copy.copy() and copy.deepcopy()?\n",
    "The key difference between copy.copy() and copy.deepcopy() is that copy.copy() creates a shallow copy, which shares references to elements, while copy.deepcopy() creates a deep copy, which creates independent copies of all elements, including nested objects.\n",
    "\n",
    "Use copy.copy() when you want to create a new object with references to the same elements as the original object. Use copy.deepcopy() when you want to create a completely independent copy of the object, including all nested elements.\n",
    "\n",
    "Note: The copy module must be imported to use copy.copy() and copy.deepcopy()."
   ]
  },
  {
   "cell_type": "code",
   "execution_count": null,
   "id": "5ffd8e77",
   "metadata": {},
   "outputs": [],
   "source": []
  }
 ],
 "metadata": {
  "kernelspec": {
   "display_name": "Python 3 (ipykernel)",
   "language": "python",
   "name": "python3"
  },
  "language_info": {
   "codemirror_mode": {
    "name": "ipython",
    "version": 3
   },
   "file_extension": ".py",
   "mimetype": "text/x-python",
   "name": "python",
   "nbconvert_exporter": "python",
   "pygments_lexer": "ipython3",
   "version": "3.9.13"
  }
 },
 "nbformat": 4,
 "nbformat_minor": 5
}
