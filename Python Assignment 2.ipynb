{
 "cells": [
  {
   "cell_type": "markdown",
   "id": "e9b2a8c0",
   "metadata": {},
   "source": [
    "## Q1. What are the two values of the Boolean data type? How do you write them?\n",
    "True: It represents the logical value for true or a positive condition. It is written as True with an uppercase 'T'. Boolean expressions or conditions that evaluate to true will return True as the result.\n",
    "\n",
    "False: It represents the logical value for false or a negative condition. It is written as False with an uppercase 'F'. Boolean expressions or conditions that evaluate to false will return False as the result.\n"
   ]
  },
  {
   "cell_type": "markdown",
   "id": "95bde0b6",
   "metadata": {},
   "source": [
    "## Q2. What are the three different types of Boolean operators?\n",
    "AND: The AND operator is used to combine two or more conditions. The AND operator returns TRUE if all of the conditions are met, and FALSE if any of the conditions are not met.  \n",
    "OR: The OR operator is used to combine two or more conditions. The OR operator returns TRUE if any of the conditions are met, and FALSE if all of the conditions are not met.  \n",
    "NOT: The NOT operator is used to reverse the meaning of a condition. The NOT operator returns TRUE if the condition is FALSE, and FALSE if the condition is TRUE."
   ]
  },
  {
   "cell_type": "markdown",
   "id": "1f296d2b",
   "metadata": {},
   "source": [
    "## Q3. Make a list of each Boolean operator's truth tables (i.e. every possible combination of Boolean values for the operator and what it evaluate ).\n",
    "Here are the truth tables for each Boolean operator:\n",
    "\n",
    "Logical AND (and):\n",
    "\n",
    "| Operand 1 | Operand 2 | Result |\n",
    "|-----------|-----------|--------|\n",
    "|   True    |   True    |  True  |\n",
    "|   True    |   False   | False  |\n",
    "|   False   |   True    | False  |\n",
    "|   False   |   False   | False  |\n",
    "\n",
    "\n",
    "Logical OR (or):\n",
    "\n",
    "| Operand 1 | Operand 2 | Result |\n",
    "|-----------|-----------|--------|\n",
    "|   True    |   True    |  True  |\n",
    "|   True    |   False   |  True  |\n",
    "|   False   |   True    |  True  |\n",
    "|   False   |   False   | False  |\n",
    "\n",
    "\n",
    "Logical NOT (not):\n",
    "\n",
    "| Operand | Result |\n",
    "|---------|--------|\n",
    "|  True   | False  |\n",
    "|  False  |  True  |\n"
   ]
  },
  {
   "cell_type": "markdown",
   "id": "72830e7e",
   "metadata": {},
   "source": [
    "## Q4. What are the values of the following expressions?\n"
   ]
  },
  {
   "cell_type": "code",
   "execution_count": 1,
   "id": "08926ff7",
   "metadata": {},
   "outputs": [
    {
     "data": {
      "text/plain": [
       "False"
      ]
     },
     "execution_count": 1,
     "metadata": {},
     "output_type": "execute_result"
    }
   ],
   "source": [
    "(5 > 4) and (3 == 5)"
   ]
  },
  {
   "cell_type": "code",
   "execution_count": 3,
   "id": "1eac253c",
   "metadata": {},
   "outputs": [
    {
     "data": {
      "text/plain": [
       "False"
      ]
     },
     "execution_count": 3,
     "metadata": {},
     "output_type": "execute_result"
    }
   ],
   "source": [
    "not(5 > 4)"
   ]
  },
  {
   "cell_type": "code",
   "execution_count": 4,
   "id": "043ba7c0",
   "metadata": {},
   "outputs": [
    {
     "data": {
      "text/plain": [
       "True"
      ]
     },
     "execution_count": 4,
     "metadata": {},
     "output_type": "execute_result"
    }
   ],
   "source": [
    "(5 > 4) or (3 == 5)"
   ]
  },
  {
   "cell_type": "code",
   "execution_count": 5,
   "id": "8dac744e",
   "metadata": {},
   "outputs": [
    {
     "data": {
      "text/plain": [
       "False"
      ]
     },
     "execution_count": 5,
     "metadata": {},
     "output_type": "execute_result"
    }
   ],
   "source": [
    "not((5 > 4) or (3 == 5))"
   ]
  },
  {
   "cell_type": "code",
   "execution_count": 6,
   "id": "3c184ab3",
   "metadata": {},
   "outputs": [
    {
     "data": {
      "text/plain": [
       "False"
      ]
     },
     "execution_count": 6,
     "metadata": {},
     "output_type": "execute_result"
    }
   ],
   "source": [
    "(True and True) and (True == False)"
   ]
  },
  {
   "cell_type": "code",
   "execution_count": 7,
   "id": "e324423b",
   "metadata": {},
   "outputs": [
    {
     "data": {
      "text/plain": [
       "True"
      ]
     },
     "execution_count": 7,
     "metadata": {},
     "output_type": "execute_result"
    }
   ],
   "source": [
    "(not False) or (not True)"
   ]
  },
  {
   "cell_type": "markdown",
   "id": "1a0be790",
   "metadata": {},
   "source": [
    "## Q5. What are the six comparison operators?\n",
    "Equal to (==): Checks if two values are equal and returns True if they are, and False otherwise.  \n",
    "\n",
    "Not equal to (!=): Checks if two values are not equal and returns True if they are not, and False otherwise.     \n",
    "\n",
    "Greater than (>): Checks if the left operand is greater than the right operand and returns True if it is, and False otherwise.  \n",
    "\n",
    "Less than (<): Checks if the left operand is less than the right operand and returns True if it is, and False otherwise.  \n",
    "\n",
    "Greater than or equal to (>=): Checks if the left operand is greater than or equal to the right operand and returns True if it is, and False otherwise.  \n",
    "\n",
    "Less than or equal to (<=): Checks if the left operand is less than or equal to the right operand and returns True if it is, and False otherwise."
   ]
  },
  {
   "cell_type": "markdown",
   "id": "5e2bae38",
   "metadata": {},
   "source": [
    "## Q6. How do you tell the difference between the equal to and assignment operators?Describe a condition and when you would use one."
   ]
  },
  {
   "cell_type": "code",
   "execution_count": 8,
   "id": "3058cb4f",
   "metadata": {},
   "outputs": [
    {
     "name": "stdout",
     "output_type": "stream",
     "text": [
      "x is not equal to y\n"
     ]
    }
   ],
   "source": [
    "x = 5\n",
    "y = 10\n",
    "if x == y: # This is equal to operator\n",
    "    print(\"x is equal to y\")\n",
    "else:\n",
    "    print(\"x is not equal to y\")\n"
   ]
  },
  {
   "cell_type": "code",
   "execution_count": 9,
   "id": "1ae57b83",
   "metadata": {},
   "outputs": [],
   "source": [
    "x = 10 # This is assignment operator\n",
    "y = x + 5\n"
   ]
  },
  {
   "cell_type": "markdown",
   "id": "83aac744",
   "metadata": {},
   "source": [
    "# Q7. Identify the three blocks in this code:\n"
   ]
  },
  {
   "cell_type": "code",
   "execution_count": 10,
   "id": "9849da56",
   "metadata": {},
   "outputs": [
    {
     "name": "stdout",
     "output_type": "stream",
     "text": [
      "ham\n",
      "spam\n",
      "spam\n"
     ]
    }
   ],
   "source": [
    "spam = 0\n",
    "\n",
    "# Block 1: The if statement with the condition spam == 10\n",
    "if spam == 10:\n",
    "  print(\"eggs\")\n",
    "\n",
    "# Block 2: The if statement with the condition spam > 5\n",
    "if spam > 5:\n",
    "  print(\"bacon\")\n",
    "else:\n",
    "  # Block 3: The else block\n",
    "  print(\"ham\")\n",
    "\n",
    "print(\"spam\")\n",
    "print(\"spam\")"
   ]
  },
  {
   "cell_type": "markdown",
   "id": "b9d217f6",
   "metadata": {},
   "source": [
    "## Q8. Write code that prints Hello if 1 is stored in spam, prints Howdy if 2 is stored in spam, and prints Greetings! if anything else is stored in spam."
   ]
  },
  {
   "cell_type": "code",
   "execution_count": 13,
   "id": "23d79a87",
   "metadata": {},
   "outputs": [
    {
     "name": "stdout",
     "output_type": "stream",
     "text": [
      "Hello\n"
     ]
    }
   ],
   "source": [
    "spam =  1        # Put the value you want to check here\n",
    "\n",
    "if spam == 1:\n",
    "    print(\"Hello\")\n",
    "elif spam == 2:\n",
    "    print(\"Howdy\")\n",
    "else:\n",
    "    print(\"Greetings!\")"
   ]
  },
  {
   "cell_type": "markdown",
   "id": "33914bbe",
   "metadata": {},
   "source": [
    "##  Q9. If your programme is stuck in an endless loop, what keys you’ll press?\n",
    "Windows/Linux: Press Ctrl + C on your keyboard. This sends a keyboard interrupt signal to the program, which will typically terminate its execution and break out of the loop.\n",
    "\n",
    "macOS: Press Command + . (period) on your keyboard. This generates a signal to interrupt the program and stop its execution."
   ]
  },
  {
   "cell_type": "markdown",
   "id": "8adf50c3",
   "metadata": {},
   "source": [
    "## Q10. How can you tell the difference between break and continue?\n",
    "\n",
    "Sure, I can help you with that.\n",
    "\n",
    "The break and continue statements are both used in loops in Python. However, they have different effects.\n",
    "\n",
    "The break statement terminates the current loop entirely. This means that the loop will not execute any more iterations, and the next statement after the loop will be executed.\n",
    "\n",
    "The continue statement skips the rest of the current iteration of the loop and goes to the next iteration. This means that the loop will continue to execute, but the current iteration will be skipped."
   ]
  },
  {
   "cell_type": "markdown",
   "id": "ef1332ac",
   "metadata": {},
   "source": [
    "## Q11. In a for loop, what is the difference between range(10), range(0, 10), and range(0, 10, 1)?"
   ]
  },
  {
   "cell_type": "markdown",
   "id": "892349f6",
   "metadata": {},
   "source": [
    "All are same"
   ]
  },
  {
   "cell_type": "markdown",
   "id": "77c29319",
   "metadata": {},
   "source": [
    "## Q12. Write a short program that prints the numbers 1 to 10 using a for loop. Then write an equivalent program that prints the numbers 1 to 10 using a while loop."
   ]
  },
  {
   "cell_type": "code",
   "execution_count": 26,
   "id": "4c246d1c",
   "metadata": {},
   "outputs": [
    {
     "name": "stdout",
     "output_type": "stream",
     "text": [
      "1\n",
      "2\n",
      "3\n",
      "4\n",
      "5\n",
      "6\n",
      "7\n",
      "8\n",
      "9\n",
      "10\n"
     ]
    }
   ],
   "source": [
    "for i in range(1,11):\n",
    "    print(i)"
   ]
  },
  {
   "cell_type": "code",
   "execution_count": 28,
   "id": "c52e9a46",
   "metadata": {},
   "outputs": [
    {
     "name": "stdout",
     "output_type": "stream",
     "text": [
      "1\n",
      "2\n",
      "3\n",
      "4\n",
      "5\n",
      "6\n",
      "7\n",
      "8\n",
      "9\n",
      "10\n"
     ]
    }
   ],
   "source": [
    "i = 0\n",
    "while i<10:\n",
    "    i = i+1\n",
    "    print(i)"
   ]
  },
  {
   "cell_type": "markdown",
   "id": "8a2c60d5",
   "metadata": {},
   "source": [
    "## Q13. If you had a function named bacon() inside a module named spam, how would you call it after importing spam?"
   ]
  },
  {
   "cell_type": "code",
   "execution_count": null,
   "id": "a2d5972b",
   "metadata": {},
   "outputs": [],
   "source": [
    "import spam\n",
    "\n",
    "spam.bacon()"
   ]
  },
  {
   "cell_type": "code",
   "execution_count": null,
   "id": "0fccb5e7",
   "metadata": {},
   "outputs": [],
   "source": []
  }
 ],
 "metadata": {
  "kernelspec": {
   "display_name": "Python 3 (ipykernel)",
   "language": "python",
   "name": "python3"
  },
  "language_info": {
   "codemirror_mode": {
    "name": "ipython",
    "version": 3
   },
   "file_extension": ".py",
   "mimetype": "text/x-python",
   "name": "python",
   "nbconvert_exporter": "python",
   "pygments_lexer": "ipython3",
   "version": "3.9.13"
  }
 },
 "nbformat": 4,
 "nbformat_minor": 5
}
