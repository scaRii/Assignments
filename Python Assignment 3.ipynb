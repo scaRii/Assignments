{
 "cells": [
  {
   "cell_type": "markdown",
   "id": "1473499f",
   "metadata": {},
   "source": [
    "##  Q1. Why are functions advantageous to have in your programs?\n",
    "Functions offer several advantages in programming. Here are some key reasons why functions are advantageous to have in your programs:\n",
    "-Code Reusability   \n",
    "-Modularity and Readability   \n",
    "-Abstraction  \n",
    "-Encapsulation  \n",
    "-Code Organization and Maintainability  \n",
    "-Code Reusability   "
   ]
  },
  {
   "cell_type": "markdown",
   "id": "2bae34ab",
   "metadata": {},
   "source": [
    "## Q2. When does the code in a function run: when it&#39;s specified or when it&#39;s called?\n",
    "The code in a function runs when the function is called, not when it is specified or defined. The purpose of defining a function is to define a reusable block of code that can be executed at a later time by calling the function."
   ]
  },
  {
   "cell_type": "markdown",
   "id": "0e287284",
   "metadata": {},
   "source": [
    "## Q3. What statement creates a function?\n",
    "The def statement is used to create a function in Python. It is a keyword that indicates the start of a function definition. The def statement is followed by the function name, parentheses (), and a colon :. The body of the function is indented below the def statement."
   ]
  },
  {
   "cell_type": "markdown",
   "id": "f132a04c",
   "metadata": {},
   "source": [
    "## Q4. What is the difference between a function and a function call?\n",
    "A function is a block of reusable code that performs a specific task or set of tasks whereas a function call (or function invocation) is the act of executing a function and running its code"
   ]
  },
  {
   "cell_type": "markdown",
   "id": "205bc92e",
   "metadata": {},
   "source": [
    "## Q5. How many global scopes are there in a Python program? How many local scopes?\n",
    "\n",
    "There is only one global scope in a Python program. The global scope is the outermost scope in a program, and it contains all of the variables and functions that are defined in the program.\n",
    "\n",
    "There can be multiple local scopes in a Python program. A local scope is a scope that is created within a function or a block of code. The local scope contains all of the variables and functions that are defined within the function or block of code.\n",
    "\n",
    "The global scope is accessible from all of the local scopes in a program. However, the local scopes are not accessible from each other."
   ]
  },
  {
   "cell_type": "markdown",
   "id": "5ad14304",
   "metadata": {},
   "source": [
    "## Q6. What happens to variables in a local scope when the function call returns?\n",
    "When a function call returns in Python, the local variables within that function's scope cease to exist. They are destroyed, and their values are no longer accessible. This process is known as the \"cleanup\" or \"deallocation\" of local variables.\n",
    "\n",
    "Here's what happens to variables in a local scope when a function call returns:\n",
    "\n",
    "Variable Deallocation: When the function call completes and returns, the local variables defined within that function's scope are deallocated. This means that the memory occupied by those variables is freed up and can be reused.\n",
    "\n",
    "Variable Inaccessibility: Once the function call returns, the local variables within that function's scope are no longer accessible from outside the function. Any attempt to reference or access those variables will result in an error or undefined behavior.\n",
    "\n",
    "Name Reusability: The names of local variables used within a function's scope become available for reuse. Since the local variables are no longer in scope, you can reuse the same variable names within other functions or at the global scope without conflict."
   ]
  },
  {
   "cell_type": "markdown",
   "id": "cdc6c6e9",
   "metadata": {},
   "source": [
    "## Q7. What is the concept of a return value? Is it possible to have a return value in an expression?\n",
    "\n",
    "Yes, it is possible to have a return value in an expression. In Python, a return value is the value that is returned by a function when the function finishes executing. The return value can be any type of value, such as a number, a string, a list, or a dictionary.\n",
    "\n",
    "The return value of a function can be used in an expression in the same way that any other value can be used\n"
   ]
  },
  {
   "cell_type": "markdown",
   "id": "464c7041",
   "metadata": {},
   "source": [
    "## Q8. If a function does not have a return statement, what is the return value of a call to that function?\n",
    "If a function does not have a return statement, the return value of a call to that function is `None`"
   ]
  },
  {
   "cell_type": "markdown",
   "id": "0f01e30c",
   "metadata": {},
   "source": [
    "## Q9. How do you make a function variable refer to the global variable?\n",
    "In Python, to make a function variable refer to a global variable, you can use the global keyword. By declaring a variable as global within a function, you indicate that the variable is the same as the one defined in the global scope. This allows you to access and modify the global variable within the function."
   ]
  },
  {
   "cell_type": "markdown",
   "id": "c2d6c8c7",
   "metadata": {},
   "source": [
    "## Q10. What is the data type of None?\n",
    "The data type of None in Python is `NoneType`.\n",
    "\n",
    "None is a special constant object that represents the absence of a value or a null value. It is commonly used to indicate that a variable or expression does not refer to any valid object or has no meaningful value."
   ]
  },
  {
   "cell_type": "markdown",
   "id": "ab6a129d",
   "metadata": {},
   "source": [
    "## Q11. What does the sentence import areallyourpetsnamederic do?\n",
    "The sentence \"import areallyourpetsnamederic\" is not a valid Python import statement and does not have any defined functionality in the Python programming language. It is not a recognized module or package in Python's standard library or any commonly used third-party libraries."
   ]
  },
  {
   "cell_type": "markdown",
   "id": "fea2dfae",
   "metadata": {},
   "source": [
    "## Q12. If you had a bacon() feature in a spam module, what would you call it after importing spam?\n",
    "import spam\n",
    "\n",
    "spam.bacon()\n"
   ]
  },
  {
   "cell_type": "markdown",
   "id": "d253d7fb",
   "metadata": {},
   "source": [
    "## Q13. What can you do to save a programme from crashing if it encounters an error?\n",
    "\n",
    "Use try-except blocks. Try-except blocks allow you to handle errors gracefully. If an error occurs inside a try block, the except block will be executed. The except block can be used to print an error message, log the error, or even continue execution of the program.   \n",
    "Use the sys.exit() function. The sys.exit() function can be used to terminate the program immediately. This can be helpful if an error occurs that you cannot recover from."
   ]
  },
  {
   "cell_type": "markdown",
   "id": "92832037",
   "metadata": {},
   "source": [
    "## Q14. What is the purpose of the try clause? What is the purpose of the except clause?\n",
    "\n",
    "The try clause is used to execute a block of code that may cause an error. If an error occurs inside the try clause, the except clause will be executed. The except clause can be used to handle the error gracefully"
   ]
  },
  {
   "cell_type": "code",
   "execution_count": null,
   "id": "efe0fbc1",
   "metadata": {},
   "outputs": [],
   "source": []
  }
 ],
 "metadata": {
  "kernelspec": {
   "display_name": "Python 3 (ipykernel)",
   "language": "python",
   "name": "python3"
  },
  "language_info": {
   "codemirror_mode": {
    "name": "ipython",
    "version": 3
   },
   "file_extension": ".py",
   "mimetype": "text/x-python",
   "name": "python",
   "nbconvert_exporter": "python",
   "pygments_lexer": "ipython3",
   "version": "3.9.13"
  }
 },
 "nbformat": 4,
 "nbformat_minor": 5
}
