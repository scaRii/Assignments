{
 "cells": [
  {
   "cell_type": "markdown",
   "id": "197d9a3a",
   "metadata": {},
   "source": [
    "## Q1. In the below elements which of them are values or an expression? \n",
    "\n",
    "VALUES = 'hello' , -87.8 , 6   \n",
    "EXPRESSION = + , - , / , *"
   ]
  },
  {
   "cell_type": "markdown",
   "id": "9bbaf558",
   "metadata": {},
   "source": [
    "## Q2. What is the difference between string and variable?\n",
    "\n",
    "  A string is a specific data type used for representing textual data, while a variable is a named container that can hold different types of data, including strings. A variable can be assigned a string value or any other type of data depending on the requirements of the program.\n"
   ]
  },
  {
   "cell_type": "markdown",
   "id": "98c71ad8",
   "metadata": {},
   "source": [
    "## Q3. Describe three different data types.\n",
    "List: Represents an ordered collection of items. Lists can contain elements of different data types and can be modified once created.  \n",
    "Tuple: Similar to lists, but tuples are immutable, meaning they cannot be modified once created.  \n",
    "Dictionary: Represents a collection of key-value pairs, where each key is unique and associated with a value."
   ]
  },
  {
   "cell_type": "markdown",
   "id": "cdebe87f",
   "metadata": {},
   "source": [
    "## Q4. What is an expression made up of? What do all expressions do?\n",
    "An expression is made up of operators, operands, and sometimes function calls. It represents a computation or evaluation that produces a value. Here's a breakdown of the components of an expression:  \n",
    "\n",
    "Operators: Operators define the operation or computation to be performed on the operands. Examples of operators include arithmetic operators (+, -, *, /), comparison operators (==, !=, <, >), logical operators (and, or, not), assignment operators (=, +=, -=), and more. Each operator has specific rules and behavior for combining operands.  \n",
    "\n",
    "Operands: Operands are the values or variables on which the operators act. They can be literals (constant values), variables, or function calls that return values. For example, in the expression '2 + 3', the operands are the values 2 and 3.  \n",
    "\n",
    "Function Calls: Functions are named blocks of code that perform specific tasks. In some cases, expressions may involve function calls, where the function returns a value that becomes part of the expression. Function calls can have arguments, which are values passed to the function for its operation.   "
   ]
  },
  {
   "cell_type": "markdown",
   "id": "6ec623cb",
   "metadata": {},
   "source": [
    "## Q5. This assignment statements, like spam = 10. What is the difference between an expression and a statement?\n",
    "  \n",
    "\n",
    "An expression is a combination of values, variables, operators, and function calls that evaluates to a single value.\n",
    "Expressions are used to compute or produce a value.  \n",
    "Examples of expressions: 2 + 3, x * y, name.upper(), 5 > 3.\n",
    "  \n",
    "\n",
    "A statement is a complete instruction or command that performs an action or controls the flow of execution.\n",
    "Statements are used to carry out tasks or operations.  \n",
    "Examples of statements: assignment statements (spam = 10), conditional statements (if, else, elif), loop statements (for, while), function declarations (def), and more.  "
   ]
  },
  {
   "cell_type": "markdown",
   "id": "70d82387",
   "metadata": {},
   "source": [
    "## Q6. After running the following code, what does the variable bacon contain?\n",
    "## bacon = 22\n",
    "## bacon + 1"
   ]
  },
  {
   "cell_type": "code",
   "execution_count": 4,
   "id": "c416739c",
   "metadata": {},
   "outputs": [
    {
     "name": "stdout",
     "output_type": "stream",
     "text": [
      "22\n"
     ]
    }
   ],
   "source": [
    "bacon = 22\n",
    "bacon + 1\n",
    "print(bacon)"
   ]
  },
  {
   "cell_type": "markdown",
   "id": "5a60038d",
   "metadata": {},
   "source": [
    "## Q7. What should the values of the following two terms be?\n",
    "'spam' + 'spamspam'  \n",
    "'spam' * 3"
   ]
  },
  {
   "cell_type": "code",
   "execution_count": 5,
   "id": "6a209cb3",
   "metadata": {},
   "outputs": [
    {
     "data": {
      "text/plain": [
       "'spamspamspam'"
      ]
     },
     "execution_count": 5,
     "metadata": {},
     "output_type": "execute_result"
    }
   ],
   "source": [
    "'spam' + 'spamspam'"
   ]
  },
  {
   "cell_type": "code",
   "execution_count": 6,
   "id": "8cf1c27e",
   "metadata": {},
   "outputs": [
    {
     "data": {
      "text/plain": [
       "'spamspamspam'"
      ]
     },
     "execution_count": 6,
     "metadata": {},
     "output_type": "execute_result"
    }
   ],
   "source": [
    "'spam' * 3"
   ]
  },
  {
   "cell_type": "markdown",
   "id": "1d74d6e8",
   "metadata": {},
   "source": [
    "## Q8. Why is eggs a valid variable name while 100 is invalid?\n",
    "Python variable names must start with a letter or an underscore and cannot begin with a digit. It is essential to follow these rules when naming variables to ensure code readability and compatibility."
   ]
  },
  {
   "cell_type": "markdown",
   "id": "68df722b",
   "metadata": {},
   "source": [
    "## Q9. What three functions can be used to get the integer, floating-point number, or string version of a value?\n",
    "We can use these function,  \n",
    "int()  \n",
    "float()  \n",
    "str()  "
   ]
  },
  {
   "cell_type": "markdown",
   "id": "af98f4e7",
   "metadata": {},
   "source": [
    "## Q10. Why does this expression cause an error? How can you fix it?\n",
    "'I have eaten' + 99 + 'burritos'  \n",
    "The expression 'I have eaten' + 99 + 'burritos' is invalid because it attempts to concatenate a string ('I have eaten') with an integer (99) without proper conversion."
   ]
  },
  {
   "cell_type": "code",
   "execution_count": null,
   "id": "ebac4846",
   "metadata": {},
   "outputs": [],
   "source": []
  }
 ],
 "metadata": {
  "kernelspec": {
   "display_name": "Python 3 (ipykernel)",
   "language": "python",
   "name": "python3"
  },
  "language_info": {
   "codemirror_mode": {
    "name": "ipython",
    "version": 3
   },
   "file_extension": ".py",
   "mimetype": "text/x-python",
   "name": "python",
   "nbconvert_exporter": "python",
   "pygments_lexer": "ipython3",
   "version": "3.9.13"
  }
 },
 "nbformat": 4,
 "nbformat_minor": 5
}
