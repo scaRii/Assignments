{
 "cells": [
  {
   "cell_type": "markdown",
   "id": "225f53c2",
   "metadata": {},
   "source": [
    "## Q1. What does an empty dictionary's code look like?"
   ]
  },
  {
   "cell_type": "code",
   "execution_count": 1,
   "id": "5626e1b4",
   "metadata": {},
   "outputs": [],
   "source": [
    "my_empty_dict = {}"
   ]
  },
  {
   "cell_type": "code",
   "execution_count": 2,
   "id": "85fc6a72",
   "metadata": {},
   "outputs": [
    {
     "name": "stdout",
     "output_type": "stream",
     "text": [
      "{}\n"
     ]
    }
   ],
   "source": [
    "print(my_empty_dict)"
   ]
  },
  {
   "cell_type": "markdown",
   "id": "701d8021",
   "metadata": {},
   "source": [
    "## Q2. What is the value of a dictionary value with the key 'foo' and the value 42?"
   ]
  },
  {
   "cell_type": "markdown",
   "id": "6a3168b4",
   "metadata": {},
   "source": [
    "The value of a dictionary with the key 'foo' and the value 42 would be 42"
   ]
  },
  {
   "cell_type": "markdown",
   "id": "859a801f",
   "metadata": {},
   "source": [
    "## Q3. What is the most significant distinction between a dictionary and a list?"
   ]
  },
  {
   "cell_type": "markdown",
   "id": "3ed9bd31",
   "metadata": {},
   "source": [
    "List: A list is an ordered collection of elements. Each element in the list is identified by its position or index, starting from 0 for the first element. Lists are created using square brackets [].\n",
    "Dictionary: A dictionary is an unordered collection of key-value pairs. Each element in the dictionary is associated with a unique key that acts as its identifier. Dictionaries are created using curly braces {}."
   ]
  },
  {
   "cell_type": "markdown",
   "id": "35726895",
   "metadata": {},
   "source": [
    "## Q4. What happens if you try to access spam['foo'] if spam is {'bar': 100}?"
   ]
  },
  {
   "cell_type": "markdown",
   "id": "3d75d947",
   "metadata": {},
   "source": [
    "If you try to access spam['foo'] and spam is {'bar': 100}, a KeyError will be raised because the key 'foo' does not exist in the dictionary spam."
   ]
  },
  {
   "cell_type": "markdown",
   "id": "35043424",
   "metadata": {},
   "source": [
    "## Q5. If a dictionary is stored in spam, what is the difference between the expressions 'cat' in spam and 'cat' in spam.keys()?"
   ]
  },
  {
   "cell_type": "markdown",
   "id": "b1ee7677",
   "metadata": {},
   "source": [
    "In practice, both expressions will provide the same result in most cases because both of them essentially check for the presence of the key 'cat' in the dictionary spam. However, using 'cat' in spam is generally more concise and efficient, as it directly checks for the key in the dictionary without creating an intermediate view object of keys. Therefore, it is considered the preferred and more Pythonic way to check for the existence of a key in a dictionary."
   ]
  },
  {
   "cell_type": "markdown",
   "id": "7c5e593c",
   "metadata": {},
   "source": [
    "## Q6. If a dictionary is stored in spam, what is the difference between the expressions 'cat' in spam and 'cat' in spam.values()?"
   ]
  },
  {
   "cell_type": "markdown",
   "id": "844e318d",
   "metadata": {},
   "source": [
    "'cat' in spam checks for the presence of the key 'cat' in the dictionary spam, while 'cat' in spam.values() checks for the presence of the value 'cat' among the values in the dictionary spam. The choice between using these expressions depends on whether you want to check for the existence of a specific key or a specific value in the dictionary."
   ]
  },
  {
   "cell_type": "markdown",
   "id": "940620da",
   "metadata": {},
   "source": [
    "## Q7. What is a shortcut for the following code?\n",
    "if 'color' not in spam:  \n",
    "spam['color'] = 'black'"
   ]
  },
  {
   "cell_type": "markdown",
   "id": "ca940d46",
   "metadata": {},
   "source": [
    "spam['color'] = spam.get('color', 'black')"
   ]
  },
  {
   "cell_type": "code",
   "execution_count": null,
   "id": "36191aa3",
   "metadata": {},
   "outputs": [],
   "source": []
  }
 ],
 "metadata": {
  "kernelspec": {
   "display_name": "Python 3 (ipykernel)",
   "language": "python",
   "name": "python3"
  },
  "language_info": {
   "codemirror_mode": {
    "name": "ipython",
    "version": 3
   },
   "file_extension": ".py",
   "mimetype": "text/x-python",
   "name": "python",
   "nbconvert_exporter": "python",
   "pygments_lexer": "ipython3",
   "version": "3.9.13"
  }
 },
 "nbformat": 4,
 "nbformat_minor": 5
}
